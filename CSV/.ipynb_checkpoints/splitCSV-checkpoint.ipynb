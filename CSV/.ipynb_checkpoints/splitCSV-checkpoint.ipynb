{
 "cells": [
  {
   "cell_type": "code",
   "execution_count": 1,
   "metadata": {},
   "outputs": [],
   "source": [
    "import pandas as pd\n",
    "from sklearn.model_selection import train_test_split\n",
    "import os"
   ]
  },
  {
   "cell_type": "code",
   "execution_count": 2,
   "metadata": {},
   "outputs": [
    {
     "name": "stdout",
     "output_type": "stream",
     "text": [
      "C:\\Users\\Najwa\\Dropbox\\BSc\\Proposed Ideas\\Dataset\\CSV\n"
     ]
    }
   ],
   "source": [
    "cwd = os.getcwd()\n",
    "print(cwd)"
   ]
  },
  {
   "cell_type": "code",
   "execution_count": 3,
   "metadata": {},
   "outputs": [],
   "source": [
    "columnNames = list()\n",
    "for i in range(1024):\n",
    "    pixel = 'pixel'\n",
    "    pixel += str(i)\n",
    "    columnNames.append(pixel)\n",
    "\n",
    "X_train = pd.DataFrame(columns = columnNames)\n",
    "y_train = pd.DataFrame(columns = ['label'])\n",
    "\n",
    "X_test = pd.DataFrame(columns = columnNames)\n",
    "y_test = pd.DataFrame(columns = ['label'])"
   ]
  },
  {
   "cell_type": "code",
   "execution_count": null,
   "metadata": {},
   "outputs": [],
   "source": [
    "ext = \".csv\"\n",
    "for i in range (1,30): #29 letters\n",
    "    trainFile = cwd + \"\\\\char_\" + str(i) + ext\n",
    "    print(trainFile)\n",
    "    labelFile = cwd + \"\\\\charLabels_\" + str(i) + ext\n",
    "    print(labelFile)\n",
    "    X = pd.read_csv(trainFile)\n",
    "    y = pd.read_csv(labelFile)\n",
    "    tempX_train, tempX_test, tempy_train, tempy_test = train_test_split(X, y,test_size=0.2)\n",
    "    X_train = X_train.append(tempX_train, ignore_index = True) \n",
    "    y_train = y_train.append(tempy_train, ignore_index = True)\n",
    "    X_test = X_test.append(tempX_test, ignore_index = True)\n",
    "    y_test = y_test.append(tempy_test, ignore_index = True)\n",
    "    print(tempX_train.shape)\n",
    "    print(X_train.shape)\n",
    "    print(tempy_train.shape)\n",
    "    print(y_train.shape)\n",
    "    print(tempX_test.shape)\n",
    "    print(X_test.shape)\n",
    "    print(tempy_test.shape)\n",
    "    print(y_test.shape)"
   ]
  },
  {
   "cell_type": "code",
   "execution_count": null,
   "metadata": {},
   "outputs": [],
   "source": [
    "X_train.to_csv(\"X_train.csv\",index=False)\n",
    "y_train.to_csv(\"y_train.csv\",index=False)\n",
    "X_test.to_csv(\"X_test.csv\",index=False)\n",
    "y_test.to_csv(\"y_test.csv\",index=False)"
   ]
  },
  {
   "cell_type": "code",
   "execution_count": null,
   "metadata": {},
   "outputs": [],
   "source": []
  }
 ],
 "metadata": {
  "kernelspec": {
   "display_name": "Python 3",
   "language": "python",
   "name": "python3"
  },
  "language_info": {
   "codemirror_mode": {
    "name": "ipython",
    "version": 3
   },
   "file_extension": ".py",
   "mimetype": "text/x-python",
   "name": "python",
   "nbconvert_exporter": "python",
   "pygments_lexer": "ipython3",
   "version": "3.6.8"
  }
 },
 "nbformat": 4,
 "nbformat_minor": 2
}
